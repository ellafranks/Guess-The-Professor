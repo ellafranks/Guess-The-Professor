{
 "cells": [
  {
   "cell_type": "markdown",
   "metadata": {
    "ExecuteTime": {
     "end_time": "2020-05-01T09:14:18.524575Z",
     "start_time": "2020-05-01T09:13:55.654067Z"
    }
   },
   "source": [
    "A persons writing style is an example of behaviour biometric. The words people may use and the way they strcuture their scentacnes is distinctive and can often be used to identify the author of a particular work. \n",
    "\n",
    "In this project I aim to compare two economists and classify who is the primary author of an academic paper based off their language. \n",
    "\n",
    "To ensure a large corpus, I will use Selinium to scrape Google Scholar, one of the most used academic search engines in the world. "
   ]
  },
  {
   "cell_type": "code",
   "execution_count": 5,
   "metadata": {
    "ExecuteTime": {
     "end_time": "2020-05-11T12:48:06.306089Z",
     "start_time": "2020-05-11T12:48:06.301512Z"
    }
   },
   "outputs": [],
   "source": [
    "from selenium import webdriver\n",
    "import requests\n",
    "from tqdm import tqdm_notebook as tqdm\n",
    "import time\n",
    "import random"
   ]
  },
  {
   "cell_type": "code",
   "execution_count": 6,
   "metadata": {
    "ExecuteTime": {
     "end_time": "2020-05-11T12:48:11.002026Z",
     "start_time": "2020-05-11T12:48:10.998354Z"
    }
   },
   "outputs": [],
   "source": [
    "from selenium.webdriver.common.by import By\n",
    "from selenium.webdriver.support import expected_conditions as EC\n",
    "from selenium.common.exceptions import TimeoutException\n",
    "from selenium.webdriver import ActionChains"
   ]
  },
  {
   "cell_type": "code",
   "execution_count": 1,
   "metadata": {
    "ExecuteTime": {
     "end_time": "2020-05-13T12:23:36.267564Z",
     "start_time": "2020-05-13T12:23:36.249641Z"
    }
   },
   "outputs": [],
   "source": [
    "import csv\n",
    "import glob\n",
    "import os\n",
    "import sys"
   ]
  },
  {
   "cell_type": "code",
   "execution_count": 2,
   "metadata": {
    "ExecuteTime": {
     "end_time": "2020-05-13T12:23:37.812349Z",
     "start_time": "2020-05-13T12:23:36.273874Z"
    }
   },
   "outputs": [],
   "source": [
    "from tika import parser"
   ]
  },
  {
   "cell_type": "code",
   "execution_count": 3,
   "metadata": {
    "ExecuteTime": {
     "end_time": "2020-05-13T12:23:39.997343Z",
     "start_time": "2020-05-13T12:23:37.816875Z"
    }
   },
   "outputs": [],
   "source": [
    "import numpy as np\n",
    "import pandas as pd"
   ]
  },
  {
   "cell_type": "code",
   "execution_count": 4,
   "metadata": {
    "ExecuteTime": {
     "end_time": "2020-05-13T12:23:44.426937Z",
     "start_time": "2020-05-13T12:23:40.006984Z"
    }
   },
   "outputs": [],
   "source": [
    "import textacy\n",
    "import spacy\n",
    "import re\n",
    "import string\n",
    "from spacy.lang.en import English\n",
    "from spacy.lang.en.stop_words import STOP_WORDS"
   ]
  },
  {
   "cell_type": "code",
   "execution_count": 5,
   "metadata": {
    "ExecuteTime": {
     "end_time": "2020-05-13T12:23:44.754501Z",
     "start_time": "2020-05-13T12:23:44.430006Z"
    }
   },
   "outputs": [],
   "source": [
    "from sklearn.base import TransformerMixin"
   ]
  },
  {
   "cell_type": "code",
   "execution_count": 6,
   "metadata": {
    "ExecuteTime": {
     "end_time": "2020-05-13T12:23:45.745986Z",
     "start_time": "2020-05-13T12:23:44.758913Z"
    }
   },
   "outputs": [],
   "source": [
    "from sklearn.model_selection import train_test_split\n",
    "from sklearn.pipeline import Pipeline"
   ]
  },
  {
   "cell_type": "code",
   "execution_count": 7,
   "metadata": {
    "ExecuteTime": {
     "end_time": "2020-05-13T12:23:45.982416Z",
     "start_time": "2020-05-13T12:23:45.752166Z"
    }
   },
   "outputs": [],
   "source": [
    "from sklearn.feature_extraction.text import TfidfVectorizer\n",
    "from sklearn.linear_model import LogisticRegression\n",
    "from sklearn.svm import LinearSVC\n",
    "from sklearn.ensemble import RandomForestClassifier"
   ]
  },
  {
   "cell_type": "code",
   "execution_count": 8,
   "metadata": {
    "ExecuteTime": {
     "end_time": "2020-05-13T12:23:45.991554Z",
     "start_time": "2020-05-13T12:23:45.985353Z"
    }
   },
   "outputs": [],
   "source": [
    "from sklearn.metrics import accuracy_score\n",
    "from sklearn import metrics\n",
    "from sklearn.model_selection import cross_val_score"
   ]
  },
  {
   "cell_type": "code",
   "execution_count": 9,
   "metadata": {
    "ExecuteTime": {
     "end_time": "2020-05-13T12:23:47.093987Z",
     "start_time": "2020-05-13T12:23:45.999120Z"
    }
   },
   "outputs": [],
   "source": [
    "from gensim.models import Word2Vec\n",
    "import gensim"
   ]
  },
  {
   "cell_type": "code",
   "execution_count": 10,
   "metadata": {
    "ExecuteTime": {
     "end_time": "2020-05-13T12:23:47.322843Z",
     "start_time": "2020-05-13T12:23:47.098461Z"
    }
   },
   "outputs": [],
   "source": [
    "from sklearn.manifold import TSNE"
   ]
  },
  {
   "cell_type": "code",
   "execution_count": 11,
   "metadata": {
    "ExecuteTime": {
     "end_time": "2020-05-13T12:23:48.214689Z",
     "start_time": "2020-05-13T12:23:47.331340Z"
    }
   },
   "outputs": [],
   "source": [
    "import matplotlib.pyplot as plt"
   ]
  },
  {
   "cell_type": "code",
   "execution_count": 12,
   "metadata": {
    "ExecuteTime": {
     "end_time": "2020-05-13T12:23:48.227552Z",
     "start_time": "2020-05-13T12:23:48.218892Z"
    }
   },
   "outputs": [],
   "source": [
    "from sklearn.decomposition import PCA"
   ]
  },
  {
   "cell_type": "markdown",
   "metadata": {
    "heading_collapsed": true
   },
   "source": [
    "# Collect and download pdfs from google scholar"
   ]
  },
  {
   "cell_type": "markdown",
   "metadata": {
    "hidden": true
   },
   "source": [
    "Main caveats of google scholar: \n",
    "- Cannot perform large scale analysis due to CAPTCHAS (robots) \n",
    "- Google scholar search enginge includes mentions of prof as well as author. "
   ]
  },
  {
   "cell_type": "code",
   "execution_count": 8,
   "metadata": {
    "ExecuteTime": {
     "end_time": "2020-05-07T08:43:49.675849Z",
     "start_time": "2020-05-07T08:43:49.666136Z"
    },
    "hidden": true
   },
   "outputs": [],
   "source": [
    "def open_and_search(prof, sleep, directory):\n",
    "\n",
    "    options = webdriver.ChromeOptions()\n",
    "    options.add_experimental_option('prefs', {\n",
    "    \"download.default_directory\": directory, #Change default directory for downloads\n",
    "    \"download.prompt_for_download\": False, #To auto download the file\n",
    "    \"download.directory_upgrade\": True,\n",
    "    \"plugins.always_open_pdf_externally\": True, #It will not show PDF directly in chrome\n",
    "    \"plugins.extensions_to_open\": \"\" \n",
    "    }) \n",
    "    \n",
    "    driver = webdriver.Chrome('/Users/ellafranks/Downloads/chromedriver', options=options)\n",
    "    driver.get('https://scholar.google.com/')\n",
    "    time.sleep(sleep)\n",
    "\n",
    "    driver.find_element_by_id('gs_hdr_tsi').send_keys(prof)\n",
    "\n",
    "    driver.find_element_by_name('btnG').click()\n",
    "\n",
    "    time.sleep(sleep)\n",
    "    \n",
    "    return driver "
   ]
  },
  {
   "cell_type": "code",
   "execution_count": 9,
   "metadata": {
    "ExecuteTime": {
     "end_time": "2020-05-07T08:43:50.064947Z",
     "start_time": "2020-05-07T08:43:50.058065Z"
    },
    "hidden": true
   },
   "outputs": [],
   "source": [
    "def click_citation(driver, prof):\n",
    "    time.sleep(1)\n",
    "    driver.get(\"https://scholar.google.com/scholar?as_vis=1&q={}&hl=en&as_sdt=0,5\".format(prof))\n",
    "    return driver"
   ]
  },
  {
   "cell_type": "code",
   "execution_count": 10,
   "metadata": {
    "ExecuteTime": {
     "end_time": "2020-05-07T08:43:50.526045Z",
     "start_time": "2020-05-07T08:43:50.516672Z"
    },
    "hidden": true
   },
   "outputs": [],
   "source": [
    "def download_pdf(driver, sleep, num_pages, prof, name):\n",
    "    \n",
    "    for i in [i*10 for i in range(num_pages)]: \n",
    "  \n",
    "        driver.get('https://scholar.google.com/scholar?start={}&q={}&hl=en&as_sdt=0,5&as_vis=1'.format(i, prof))\n",
    "\n",
    "        time.sleep(1)\n",
    "\n",
    "        blocks = driver.find_elements_by_class_name('gs_r.gs_or.gs_scl')\n",
    "\n",
    "        for block in blocks:\n",
    "            try: \n",
    "                if block.find_element_by_class_name('gs_or_ggsm'):\n",
    "                    if name in block.find_element_by_class_name('gs_a').text:\n",
    "                        block.find_element_by_class_name('gs_ctg2').click()\n",
    "            except:\n",
    "                pass\n"
   ]
  },
  {
   "cell_type": "markdown",
   "metadata": {
    "hidden": true
   },
   "source": [
    "**This next line of code is made up of 3 functions:**\n",
    "\n",
    "1. Navigate to google scholar page, search up associated prof name\n",
    "2. Apply filters ensuring prof is a key author and not just a citation\n",
    "3. Download papers that are pdf formatted AND associated prof name as primary author into chosen directory "
   ]
  },
  {
   "cell_type": "markdown",
   "metadata": {
    "hidden": true
   },
   "source": [
    "These two prof were chosen due to them having written papers with similar content, but never coauthoring a paper together."
   ]
  },
  {
   "cell_type": "code",
   "execution_count": 11,
   "metadata": {
    "ExecuteTime": {
     "end_time": "2020-05-07T08:43:52.241552Z",
     "start_time": "2020-05-07T08:43:52.236710Z"
    },
    "hidden": true
   },
   "outputs": [],
   "source": [
    "directory1 = \"/Users/ellafranks/Desktop/Other-projects/Guess_the_prof/Julian_Franks_papers/\"\n",
    "directory2 = \"/Users/ellafranks/Desktop/Other-projects/Guess_the_prof/La_Porta_papers/\""
   ]
  },
  {
   "cell_type": "code",
   "execution_count": 13,
   "metadata": {
    "ExecuteTime": {
     "end_time": "2020-05-07T08:44:23.314213Z",
     "start_time": "2020-05-07T08:44:23.308906Z"
    },
    "hidden": true
   },
   "outputs": [],
   "source": [
    "#Prof 1 - Julian Franks\n",
    "download_pdf(click_citation(open_and_search('Julian Franks', 1, directory1), 'Julian+Franks'), 1, 20, 'Julian+Franks', 'Franks')"
   ]
  },
  {
   "cell_type": "code",
   "execution_count": 410,
   "metadata": {
    "ExecuteTime": {
     "end_time": "2020-05-06T14:07:28.956387Z",
     "start_time": "2020-05-06T14:07:28.951194Z"
    },
    "hidden": true
   },
   "outputs": [],
   "source": [
    "#Prof 2 - Rafael La Porta\n",
    "download_pdf(click_citation(open_and_search('La Porta', 1, directory2), 'La+Porta'), 1, 20, 'La+Porta', 'Porta')"
   ]
  },
  {
   "cell_type": "markdown",
   "metadata": {
    "heading_collapsed": true
   },
   "source": [
    "# Parse and convert pdf to raw text"
   ]
  },
  {
   "cell_type": "markdown",
   "metadata": {
    "hidden": true
   },
   "source": [
    "Using Tika to extract content from pdfs (need to install the latest version of Java in order to run the script - Can use pdfMiner3 or pdfPlumber if not)"
   ]
  },
  {
   "cell_type": "code",
   "execution_count": 22,
   "metadata": {
    "ExecuteTime": {
     "end_time": "2020-05-06T12:10:24.012181Z",
     "start_time": "2020-05-06T12:10:23.987829Z"
    },
    "hidden": true
   },
   "outputs": [],
   "source": [
    "def grab_pdf_content(filepath):\n",
    "    \n",
    "    list_pdf, input_files = [], []\n",
    "    \n",
    "    #grab all PDF's file name and strip out .pdf\n",
    "    all_files = glob.glob(os.path.join(filepath, \"*.pdf\"))\n",
    "    for input_file in all_files:\n",
    "        filename = os.path.basename(input_file)\n",
    "        filename = filename.strip('.pdf')\n",
    "        \n",
    "    # Use Tika to parse the PDF's, extract text content\n",
    "        parsedPDF = parser.from_file(input_file)\n",
    "        pdf = parsedPDF[\"content\"]\n",
    "        \n",
    "        list_pdf.append(pdf)\n",
    "        input_files.append(filename)\n",
    " \n",
    "    return input_files, list_pdf"
   ]
  },
  {
   "cell_type": "code",
   "execution_count": 23,
   "metadata": {
    "ExecuteTime": {
     "end_time": "2020-05-06T12:10:26.386327Z",
     "start_time": "2020-05-06T12:10:26.377054Z"
    },
    "hidden": true
   },
   "outputs": [],
   "source": [
    "def convert_to_df(n, c): \n",
    "    corpus = list(zip(n, c))\n",
    "    df = pd.DataFrame.from_dict({name:doc for name,doc in corpus}, orient='index', columns=['text'])\n",
    "    df.to_csv('{}_pdfs_df.csv'.format(df.shape[0]))"
   ]
  },
  {
   "cell_type": "code",
   "execution_count": 411,
   "metadata": {
    "ExecuteTime": {
     "end_time": "2020-05-06T14:07:37.510036Z",
     "start_time": "2020-05-06T14:07:37.481110Z"
    },
    "hidden": true
   },
   "outputs": [],
   "source": [
    "filepath = \"/../Users/ellafranks/Desktop/Other-projects/Guess_the_prof/Julian_Franks_papers\"\n",
    "filepath2 = \"/../Users/ellafranks/Desktop/Other-projects/Guess_the_prof/La_Porta_papers\""
   ]
  },
  {
   "cell_type": "markdown",
   "metadata": {
    "hidden": true
   },
   "source": [
    "1. Extract filename and content from Julian Franks\n",
    "2. Compile and save pdfs into a csv dataframe \n",
    "3. Add relevent column (prof) and combine dataframes"
   ]
  },
  {
   "cell_type": "code",
   "execution_count": 197,
   "metadata": {
    "ExecuteTime": {
     "end_time": "2020-05-06T13:31:07.860476Z",
     "start_time": "2020-05-06T13:31:07.846896Z"
    },
    "hidden": true
   },
   "outputs": [],
   "source": [
    "# Julian Franks\n",
    "name, content = grab_pdf_content(filepath)\n",
    "convert_to_df(name, content)"
   ]
  },
  {
   "cell_type": "code",
   "execution_count": 412,
   "metadata": {
    "ExecuteTime": {
     "end_time": "2020-05-06T14:07:56.375618Z",
     "start_time": "2020-05-06T14:07:39.708292Z"
    },
    "hidden": true
   },
   "outputs": [],
   "source": [
    "# La Porta\n",
    "name2, content2 = grab_pdf_content(filepath2)\n",
    "convert_to_df(name2, content2)"
   ]
  },
  {
   "cell_type": "code",
   "execution_count": 13,
   "metadata": {
    "ExecuteTime": {
     "end_time": "2020-05-13T12:24:00.594602Z",
     "start_time": "2020-05-13T12:24:00.380571Z"
    },
    "hidden": true
   },
   "outputs": [],
   "source": [
    "JF = pd.read_csv('38_pdfs_df.csv', sep=',', index_col=[0])\n",
    "LP = pd.read_csv('59_pdfs_df.csv', sep=',', index_col=[0])"
   ]
  },
  {
   "cell_type": "code",
   "execution_count": 14,
   "metadata": {
    "ExecuteTime": {
     "end_time": "2020-05-13T12:24:00.654820Z",
     "start_time": "2020-05-13T12:24:00.638238Z"
    },
    "hidden": true
   },
   "outputs": [],
   "source": [
    "JF['prof'] = 'Julian'\n",
    "LP['prof'] = 'Rafael'"
   ]
  },
  {
   "cell_type": "code",
   "execution_count": 15,
   "metadata": {
    "ExecuteTime": {
     "end_time": "2020-05-13T12:24:00.923408Z",
     "start_time": "2020-05-13T12:24:00.906894Z"
    },
    "hidden": true
   },
   "outputs": [
    {
     "data": {
      "text/plain": [
       "(97, 2)"
      ]
     },
     "execution_count": 15,
     "metadata": {},
     "output_type": "execute_result"
    }
   ],
   "source": [
    "comb = pd.concat([JF, LP])\n",
    "comb.shape"
   ]
  },
  {
   "cell_type": "markdown",
   "metadata": {},
   "source": [
    "# Clean and prepare text"
   ]
  },
  {
   "cell_type": "code",
   "execution_count": 16,
   "metadata": {
    "ExecuteTime": {
     "end_time": "2020-05-13T12:24:05.015039Z",
     "start_time": "2020-05-13T12:24:05.005226Z"
    }
   },
   "outputs": [],
   "source": [
    "def general_clean(content):\n",
    "    paragraphs = str(content).split('\\n\\n')\n",
    "    list_stripped = []  \n",
    "    for item in paragraphs:\n",
    "        stripped = item.strip().replace(',', '').lower()\n",
    "        list_stripped.append(stripped)\n",
    "    \n",
    "    #remove if empty cell or paragraph break \n",
    "    final_list = []\n",
    "    for l in list_stripped:\n",
    "        if l != '' and '\\n' not in l:\n",
    "            final_list.append(l)  \n",
    "    return final_list"
   ]
  },
  {
   "cell_type": "markdown",
   "metadata": {},
   "source": [
    "Above I split the content by newline paragraphs, strip them and convert to lowercase and then remove the cell if empty or contains a paragraph break. I then 'explode' the list of lists per row into many rows."
   ]
  },
  {
   "cell_type": "code",
   "execution_count": 17,
   "metadata": {
    "ExecuteTime": {
     "end_time": "2020-05-13T12:24:05.653360Z",
     "start_time": "2020-05-13T12:24:05.447653Z"
    }
   },
   "outputs": [],
   "source": [
    "comb.text = comb.text.apply(lambda x: general_clean(x))"
   ]
  },
  {
   "cell_type": "code",
   "execution_count": 18,
   "metadata": {
    "ExecuteTime": {
     "end_time": "2020-05-13T12:24:05.724009Z",
     "start_time": "2020-05-13T12:24:05.659080Z"
    }
   },
   "outputs": [],
   "source": [
    "df = comb.explode('text')"
   ]
  },
  {
   "cell_type": "code",
   "execution_count": 19,
   "metadata": {
    "ExecuteTime": {
     "end_time": "2020-05-13T12:24:05.850609Z",
     "start_time": "2020-05-13T12:24:05.795080Z"
    }
   },
   "outputs": [
    {
     "name": "stdout",
     "output_type": "stream",
     "text": [
      "There are 10001 duplictates found in 49564 rows.\n"
     ]
    }
   ],
   "source": [
    "print('There are {} duplictates found in {} rows.'.format(df.duplicated().sum(), df.shape[0]))"
   ]
  },
  {
   "cell_type": "markdown",
   "metadata": {},
   "source": [
    "I have a very large corpus and in order to make this clean as applicable to all pdfs and their authors, I drop duplicate cells which mostly contain page numbers and chapter references. "
   ]
  },
  {
   "cell_type": "code",
   "execution_count": 20,
   "metadata": {
    "ExecuteTime": {
     "end_time": "2020-05-13T12:24:06.270068Z",
     "start_time": "2020-05-13T12:24:06.222740Z"
    }
   },
   "outputs": [],
   "source": [
    "df.drop_duplicates(inplace=True)"
   ]
  },
  {
   "cell_type": "code",
   "execution_count": 21,
   "metadata": {
    "ExecuteTime": {
     "end_time": "2020-05-13T12:24:06.526912Z",
     "start_time": "2020-05-13T12:24:06.437721Z"
    }
   },
   "outputs": [
    {
     "name": "stdout",
     "output_type": "stream",
     "text": [
      "I will drop 13438 rows which are less than 10 words long.\n"
     ]
    }
   ],
   "source": [
    "print('I will drop {} rows which are less than 10 words long.'.format(df.text.apply(lambda x: len(x.split(' ')) < 10).sum()))"
   ]
  },
  {
   "cell_type": "code",
   "execution_count": 22,
   "metadata": {
    "ExecuteTime": {
     "end_time": "2020-05-13T12:24:06.768575Z",
     "start_time": "2020-05-13T12:24:06.689786Z"
    }
   },
   "outputs": [],
   "source": [
    "df = df[df['text'].apply(lambda x: len(x.split(' ')) > 10)]"
   ]
  },
  {
   "cell_type": "code",
   "execution_count": 23,
   "metadata": {
    "ExecuteTime": {
     "end_time": "2020-05-13T12:24:06.996987Z",
     "start_time": "2020-05-13T12:24:06.941994Z"
    }
   },
   "outputs": [],
   "source": [
    "df = df.reset_index().rename(columns={'index': 'paper'})"
   ]
  },
  {
   "cell_type": "markdown",
   "metadata": {},
   "source": [
    "Remove all occurances of prof name and all instances where cells begin with an asterix as they tend to be footnotes "
   ]
  },
  {
   "cell_type": "code",
   "execution_count": 24,
   "metadata": {
    "ExecuteTime": {
     "end_time": "2020-05-13T12:24:07.697712Z",
     "start_time": "2020-05-13T12:24:07.393872Z"
    }
   },
   "outputs": [
    {
     "name": "stdout",
     "output_type": "stream",
     "text": [
      "There are 6924 number of instances of the prof name, so we shall replace these.\n"
     ]
    }
   ],
   "source": [
    "prof = 'Julian|Franks|Rafael|Porta|La'\n",
    "\n",
    "print('There are {} number of instances of the prof name, so we shall replace these.'.\\\n",
    "      format(df[df['text'].str.contains(prof, flags=re.IGNORECASE)].shape[0]))"
   ]
  },
  {
   "cell_type": "code",
   "execution_count": 25,
   "metadata": {
    "ExecuteTime": {
     "end_time": "2020-05-13T12:24:07.971852Z",
     "start_time": "2020-05-13T12:24:07.702360Z"
    }
   },
   "outputs": [],
   "source": [
    "prof = ['julian', 'franks', 'rafael', 'porta', 'la']\n",
    "df.text = df.text.replace({l: '' for l in prof}, regex=True)"
   ]
  },
  {
   "cell_type": "code",
   "execution_count": 26,
   "metadata": {
    "ExecuteTime": {
     "end_time": "2020-05-13T12:24:08.004836Z",
     "start_time": "2020-05-13T12:24:07.976280Z"
    }
   },
   "outputs": [],
   "source": [
    "df = df[df.text.map(lambda x: not (x.startswith('*')))]"
   ]
  },
  {
   "cell_type": "markdown",
   "metadata": {},
   "source": [
    "We would ideally like the classes as balenced as possible"
   ]
  },
  {
   "cell_type": "code",
   "execution_count": 27,
   "metadata": {
    "ExecuteTime": {
     "end_time": "2020-05-13T12:24:11.393391Z",
     "start_time": "2020-05-13T12:24:11.358924Z"
    }
   },
   "outputs": [
    {
     "data": {
      "text/html": [
       "<div>\n",
       "<style scoped>\n",
       "    .dataframe tbody tr th:only-of-type {\n",
       "        vertical-align: middle;\n",
       "    }\n",
       "\n",
       "    .dataframe tbody tr th {\n",
       "        vertical-align: top;\n",
       "    }\n",
       "\n",
       "    .dataframe thead th {\n",
       "        text-align: right;\n",
       "    }\n",
       "</style>\n",
       "<table border=\"1\" class=\"dataframe\">\n",
       "  <thead>\n",
       "    <tr style=\"text-align: right;\">\n",
       "      <th></th>\n",
       "      <th>text</th>\n",
       "    </tr>\n",
       "    <tr>\n",
       "      <th>prof</th>\n",
       "      <th></th>\n",
       "    </tr>\n",
       "  </thead>\n",
       "  <tbody>\n",
       "    <tr>\n",
       "      <th>Julian</th>\n",
       "      <td>15311</td>\n",
       "    </tr>\n",
       "    <tr>\n",
       "      <th>Rafael</th>\n",
       "      <td>9166</td>\n",
       "    </tr>\n",
       "  </tbody>\n",
       "</table>\n",
       "</div>"
      ],
      "text/plain": [
       "         text\n",
       "prof         \n",
       "Julian  15311\n",
       "Rafael   9166"
      ]
     },
     "execution_count": 27,
     "metadata": {},
     "output_type": "execute_result"
    }
   ],
   "source": [
    "df.groupby('prof')[['text']].count()"
   ]
  },
  {
   "cell_type": "markdown",
   "metadata": {},
   "source": [
    "# Process text using spacy and make predictions"
   ]
  },
  {
   "cell_type": "markdown",
   "metadata": {},
   "source": [
    "**Build a classification model to predict if the economics paper was Julian Franks or La Porta**"
   ]
  },
  {
   "cell_type": "code",
   "execution_count": 28,
   "metadata": {
    "ExecuteTime": {
     "end_time": "2020-05-13T12:24:13.832185Z",
     "start_time": "2020-05-13T12:24:13.805941Z"
    }
   },
   "outputs": [
    {
     "data": {
      "text/plain": [
       "0.6255260040037587"
      ]
     },
     "execution_count": 28,
     "metadata": {},
     "output_type": "execute_result"
    }
   ],
   "source": [
    "df['prof'].value_counts(normalize=True).max()"
   ]
  },
  {
   "cell_type": "markdown",
   "metadata": {},
   "source": [
    "***Aim is to differentiate language pertaining to economics, rather than places, people, references or common words.***\n",
    "\n",
    "**I will now create a tokenizer function that returns a list of preproccessed tokens that will have:**\n",
    "- Named entities (people and places removed)\n",
    "- Lowercased\n",
    "- Lemmatised\n",
    "- Stop words and punctuation removed.\n",
    "\n",
    "**Also use a custom transformer that uses spaCy**"
   ]
  },
  {
   "cell_type": "code",
   "execution_count": 29,
   "metadata": {
    "ExecuteTime": {
     "end_time": "2020-05-13T12:24:15.408735Z",
     "start_time": "2020-05-13T12:24:14.368126Z"
    }
   },
   "outputs": [],
   "source": [
    "#load small pretrained model as parser trained on written web text\n",
    "parser = spacy.load('en_core_web_sm')\n",
    "stop_words = STOP_WORDS\n",
    "punctuations = \" \".join(string.punctuation).split(\" \") + [\"-\", \"...\", \"”\", \"”\"]\n",
    "\n",
    "def spacy_tokenizer(sentence):\n",
    "    mytokens = parser(sentence)\n",
    "    mytokens = [word for word in mytokens if not word.ent_type]  \n",
    "    mytokens = [ word.lemma_.lower().strip() if word.lemma_ != \"-PRON-\" else word.lower_ for word in mytokens ]\n",
    "    mytokens = [ word for word in mytokens if word not in stop_words and word not in punctuations]\n",
    "    return mytokens\n",
    "\n",
    "class predictors(TransformerMixin):\n",
    "    def transform(self, X, **transform_params):\n",
    "        return [clean_text(text) for text in X]\n",
    "    def fit(self, X, y=None, **fit_params):\n",
    "        return self\n",
    "    def get_params(self, deep=True):\n",
    "        return {}\n",
    "\n",
    "# Basic function to remove any instances of punctuation found between letters \n",
    "def clean_text(text):\n",
    "    return ''.join(ch for ch in text if ch not in punctuations)"
   ]
  },
  {
   "cell_type": "code",
   "execution_count": 90,
   "metadata": {
    "ExecuteTime": {
     "end_time": "2020-05-13T13:49:17.769801Z",
     "start_time": "2020-05-13T13:49:17.724288Z"
    }
   },
   "outputs": [],
   "source": [
    "X = df['text']\n",
    "y = df['prof'] \n",
    "\n",
    "X_train, X_test, y_train, y_test = train_test_split(X, y, test_size=0.2, random_state=1, shuffle=True, stratify=y)"
   ]
  },
  {
   "cell_type": "code",
   "execution_count": 91,
   "metadata": {
    "ExecuteTime": {
     "end_time": "2020-05-13T13:52:46.871666Z",
     "start_time": "2020-05-13T13:49:18.577534Z"
    }
   },
   "outputs": [
    {
     "data": {
      "text/plain": [
       "Pipeline(memory=None,\n",
       "     steps=[('cleaner', <__main__.predictors object at 0x1a46efb208>), ('vectorizer', TfidfVectorizer(analyzer='word', binary=False, decode_error='strict',\n",
       "        dtype=<class 'numpy.float64'>, encoding='utf-8', input='content',\n",
       "        lowercase=True, max_df=1.0, max_features=5000, min_df=1,\n",
       "        ng...enalty='l2', random_state=None, solver='lbfgs',\n",
       "          tol=0.0001, verbose=0, warm_start=False))])"
      ]
     },
     "execution_count": 91,
     "metadata": {},
     "output_type": "execute_result"
    }
   ],
   "source": [
    "tfidf_vector = TfidfVectorizer(tokenizer = spacy_tokenizer, max_features=5000, ngram_range=(1,2))\n",
    "\n",
    "classifier = LogisticRegression(solver = 'lbfgs')\n",
    "\n",
    "pipe = Pipeline([(\"cleaner\", predictors()),\n",
    "                 ('vectorizer', tfidf_vector),\n",
    "                 ('classifier', classifier)])\n",
    "\n",
    "pipe.fit(X_train,y_train)"
   ]
  },
  {
   "cell_type": "code",
   "execution_count": 93,
   "metadata": {
    "ExecuteTime": {
     "end_time": "2020-05-13T13:56:39.150354Z",
     "start_time": "2020-05-13T13:55:45.272934Z"
    }
   },
   "outputs": [
    {
     "name": "stdout",
     "output_type": "stream",
     "text": [
      "Logistic Regression Accuracy: 0.9048202614379085\n"
     ]
    }
   ],
   "source": [
    "predicted = pipe.predict(X_test)\n",
    "print(\"Logistic Regression Accuracy:\",metrics.accuracy_score(y_test, predicted))"
   ]
  },
  {
   "cell_type": "markdown",
   "metadata": {},
   "source": [
    "With named entities (person or place) kept, the accuracy score achieved was 0.92. However, I am not interested in words such as the UK, references or names of companies. Rather I am interested in analysing the professor's use of economic jargon. "
   ]
  },
  {
   "cell_type": "code",
   "execution_count": 562,
   "metadata": {
    "ExecuteTime": {
     "end_time": "2020-05-11T11:02:51.649395Z",
     "start_time": "2020-05-11T11:02:51.621233Z"
    }
   },
   "outputs": [
    {
     "data": {
      "text/html": [
       "<div>\n",
       "<style scoped>\n",
       "    .dataframe tbody tr th:only-of-type {\n",
       "        vertical-align: middle;\n",
       "    }\n",
       "\n",
       "    .dataframe tbody tr th {\n",
       "        vertical-align: top;\n",
       "    }\n",
       "\n",
       "    .dataframe thead th {\n",
       "        text-align: right;\n",
       "    }\n",
       "</style>\n",
       "<table border=\"1\" class=\"dataframe\">\n",
       "  <thead>\n",
       "    <tr style=\"text-align: right;\">\n",
       "      <th></th>\n",
       "      <th>feature</th>\n",
       "      <th>coef</th>\n",
       "      <th>abs_coef</th>\n",
       "    </tr>\n",
       "  </thead>\n",
       "  <tbody>\n",
       "    <tr>\n",
       "      <th>2158</th>\n",
       "      <td>government</td>\n",
       "      <td>6.127980</td>\n",
       "      <td>6.127980</td>\n",
       "    </tr>\n",
       "    <tr>\n",
       "      <th>3052</th>\n",
       "      <td>node</td>\n",
       "      <td>5.433282</td>\n",
       "      <td>5.433282</td>\n",
       "    </tr>\n",
       "    <tr>\n",
       "      <th>4124</th>\n",
       "      <td>sensor</td>\n",
       "      <td>5.125548</td>\n",
       "      <td>5.125548</td>\n",
       "    </tr>\n",
       "    <tr>\n",
       "      <th>4930</th>\n",
       "      <td>worker</td>\n",
       "      <td>4.757293</td>\n",
       "      <td>4.757293</td>\n",
       "    </tr>\n",
       "    <tr>\n",
       "      <th>0</th>\n",
       "      <td></td>\n",
       "      <td>4.628307</td>\n",
       "      <td>4.628307</td>\n",
       "    </tr>\n",
       "  </tbody>\n",
       "</table>\n",
       "</div>"
      ],
      "text/plain": [
       "         feature      coef  abs_coef\n",
       "2158  government  6.127980  6.127980\n",
       "3052        node  5.433282  5.433282\n",
       "4124      sensor  5.125548  5.125548\n",
       "4930      worker  4.757293  4.757293\n",
       "0                 4.628307  4.628307"
      ]
     },
     "execution_count": 562,
     "metadata": {},
     "output_type": "execute_result"
    }
   ],
   "source": [
    "importances = pd.DataFrame({'feature': pipe.named_steps['vectorizer'].get_feature_names(),\n",
    "                        'coef': pipe.named_steps['classifier'].coef_[0],\n",
    "                        'abs_coef': np.abs(pipe.named_steps['classifier'].coef_[0])}).sort_values('coef', ascending=False)\n",
    "\n",
    "importances.head()"
   ]
  },
  {
   "cell_type": "markdown",
   "metadata": {},
   "source": [
    "Function that returns the best predictors; the most distinctive words that each prof uses. "
   ]
  },
  {
   "cell_type": "code",
   "execution_count": 89,
   "metadata": {
    "ExecuteTime": {
     "end_time": "2020-05-12T10:49:20.891437Z",
     "start_time": "2020-05-12T10:49:20.883823Z"
    }
   },
   "outputs": [],
   "source": [
    "def printNMostInformative(vectorizer, clf, N):\n",
    "    feature_names = vectorizer.get_feature_names()\n",
    "    coefs_with_fns = sorted(zip(clf.coef_[0], feature_names))\n",
    "    topClass1 = coefs_with_fns[:N]\n",
    "    topClass2 = coefs_with_fns[:-(N + 1):-1]\n",
    "    print(\"Class 1 best: \")\n",
    "    for feat in topClass1:\n",
    "        print(feat)\n",
    "    print(\"Class 2 best: \")\n",
    "    for feat in topClass2:\n",
    "        print(feat)"
   ]
  },
  {
   "cell_type": "code",
   "execution_count": 564,
   "metadata": {
    "ExecuteTime": {
     "end_time": "2020-05-11T11:02:56.779291Z",
     "start_time": "2020-05-11T11:02:56.757031Z"
    }
   },
   "outputs": [
    {
     "name": "stdout",
     "output_type": "stream",
     "text": [
      "Top features used to predict prof: \n",
      "Class 1 best: \n",
      "(-4.86129165039775, 'company')\n",
      "(-4.452002155158501, 'family')\n",
      "(-4.411103766416043, 'repurchase')\n",
      "(-3.9197394577726703, 'bankruptcy')\n",
      "(-3.894986842315687, 'firm')\n",
      "(-3.7669176418715677, 'acquisition')\n",
      "(-3.3599173540663267, 'engagement')\n",
      "(-3.228480765944895, 'debt')\n",
      "(-3.113389553426638, 'stock')\n",
      "(-3.042817044362779, 'ownership')\n",
      "(-2.932712624918735, 'lender')\n",
      "(-2.8088940115125602, 'takeover')\n",
      "(-2.7894899011852266, 'innovation')\n",
      "(-2.7176577053738344, 'turnover')\n",
      "(-2.713535445255839, 'price')\n",
      "(-2.662650110509689, 'creditor')\n",
      "(-2.557454942209198, 'industry')\n",
      "(-2.5565089042890876, 'bid')\n",
      "(-2.537669729306529, 'trade')\n",
      "(-2.53017312407707, 'auction')\n",
      "Class 2 best: \n",
      "(6.12798022128357, 'government')\n",
      "(5.433281871456021, 'node')\n",
      "(5.125548326651531, 'sensor')\n",
      "(4.757293031136061, 'worker')\n",
      "(4.6283066932769215, '')\n",
      "(4.426559049868527, 'network')\n",
      "(4.418842479669616, 'key')\n",
      "(4.050399230234767, 'cell')\n",
      "(3.8675821836663866, 'protocol')\n",
      "(3.865909400593674, 'political')\n",
      "(3.649695302761242, 'mobile')\n",
      "(3.377370053896184, 'packet')\n",
      "(3.3296078322015945, 'expropriation')\n",
      "(3.299168701439718, 'regional')\n",
      "(3.221004948076289, 'legal')\n",
      "(3.197120325963854, 'region')\n",
      "(3.12961788205844, 'regution')\n",
      "(3.127280679540808, 'human')\n",
      "(3.1006162595681093, 'message')\n",
      "(3.0805787813172136, 'education')\n"
     ]
    }
   ],
   "source": [
    "# Logistic regression \n",
    "print(\"Top features used to predict prof: \")\n",
    "printNMostInformative(pipe.named_steps['vectorizer'], pipe.named_steps['classifier'], 20)"
   ]
  },
  {
   "cell_type": "markdown",
   "metadata": {},
   "source": [
    "Trying with LinearSVC"
   ]
  },
  {
   "cell_type": "code",
   "execution_count": 86,
   "metadata": {
    "ExecuteTime": {
     "end_time": "2020-05-12T10:44:43.394100Z",
     "start_time": "2020-05-12T10:40:43.537422Z"
    }
   },
   "outputs": [
    {
     "data": {
      "text/plain": [
       "Pipeline(memory=None,\n",
       "     steps=[('cleaner', <__main__.predictors object at 0x1a1f8d9c88>), ('vectorizer', TfidfVectorizer(analyzer='word', binary=False, decode_error='strict',\n",
       "        dtype=<class 'numpy.float64'>, encoding='utf-8', input='content',\n",
       "        lowercase=True, max_df=1.0, max_features=5000, min_df=1,\n",
       "        ng...ax_iter=1000,\n",
       "     multi_class='ovr', penalty='l2', random_state=None, tol=0.0001,\n",
       "     verbose=0))])"
      ]
     },
     "execution_count": 86,
     "metadata": {},
     "output_type": "execute_result"
    }
   ],
   "source": [
    "classifier = LinearSVC()\n",
    "\n",
    "pipe = Pipeline([(\"cleaner\", predictors()),\n",
    "                 ('vectorizer', tfidf_vector),\n",
    "                 ('classifier', classifier)])\n",
    "\n",
    "pipe.fit(X_train,y_train)"
   ]
  },
  {
   "cell_type": "code",
   "execution_count": 87,
   "metadata": {
    "ExecuteTime": {
     "end_time": "2020-05-12T10:48:08.160011Z",
     "start_time": "2020-05-12T10:47:18.307156Z"
    }
   },
   "outputs": [
    {
     "name": "stdout",
     "output_type": "stream",
     "text": [
      "SVC Accuracy: 0.9074754901960784\n"
     ]
    }
   ],
   "source": [
    "predicted = pipe.predict(X_test)\n",
    "print(\"SVC Accuracy:\",metrics.accuracy_score(y_test, predicted))"
   ]
  },
  {
   "cell_type": "markdown",
   "metadata": {},
   "source": [
    "Both LR and SVC discriminate in similar ways"
   ]
  },
  {
   "cell_type": "code",
   "execution_count": 90,
   "metadata": {
    "ExecuteTime": {
     "end_time": "2020-05-12T10:49:24.161145Z",
     "start_time": "2020-05-12T10:49:24.137539Z"
    }
   },
   "outputs": [
    {
     "name": "stdout",
     "output_type": "stream",
     "text": [
      "Top features used to predict prof: \n",
      "Class 1 best: \n",
      "(-2.5166169014539714, 'acquisition')\n",
      "(-2.320852759256602, 'repurchase')\n",
      "(-2.1205716509453185, 'lender')\n",
      "(-2.0380742522828954, 'innovation')\n",
      "(-1.9712627351003797, 'engagement')\n",
      "(-1.8810842076777023, 'bankruptcy')\n",
      "(-1.7823350374627094, 'activism')\n",
      "(-1.7805770782316899, 'company')\n",
      "(-1.751701411287569, 'freedom contract')\n",
      "(-1.7410472772762677, 'vessel')\n",
      "(-1.7260540540876914, 'continental')\n",
      "(-1.724554522836311, 'innovate')\n",
      "(-1.7194052999336227, 'family')\n",
      "(-1.7147730963083128, 'debt')\n",
      "(-1.7135008744776357, 'zaibatsu')\n",
      "(-1.7127536758731359, 'blockholder')\n",
      "(-1.6959268670402279, 'misvaluation')\n",
      "(-1.6832279239625476, 'purchase')\n",
      "(-1.6613458499564444, 'stock')\n",
      "(-1.6544430658758962, 'active')\n",
      "Class 2 best: \n",
      "(3.1755297263121793, 'worker')\n",
      "(3.0698774195895853, 'node')\n",
      "(2.9005028745924983, 'government')\n",
      "(2.8076854219621956, 'sensor')\n",
      "(2.612148953280926, 'protocol')\n",
      "(2.573194335907539, 'cell')\n",
      "(2.460264380282444, 'expropriation')\n",
      "(2.3962956898211707, '� �')\n",
      "(2.274032921132779, 'fig')\n",
      "(2.2502751770631533, 'packet')\n",
      "(2.2405835603043407, 'survivor bank')\n",
      "(2.213888633516341, 'unreted')\n",
      "(2.1685119312488617, 'privatization')\n",
      "(2.0846460770574367, 'capita')\n",
      "(2.076730361801941, 'shareholder creditor')\n",
      "(2.075449019834324, 'key')\n",
      "(2.0634513129331156, 'computer')\n",
      "(2.0490082414711117, 'regional')\n",
      "(2.0344837055140426, 'productivity')\n",
      "(2.0313650738306337, 'interested')\n"
     ]
    }
   ],
   "source": [
    "print(\"Top features used to predict prof: \")\n",
    "printNMostInformative(pipe.named_steps['vectorizer'], pipe.named_steps['classifier'], 20)"
   ]
  },
  {
   "cell_type": "markdown",
   "metadata": {},
   "source": [
    "However, just using Spacy's pretrained word embeddings model might not capture the specificities of the language used in these economic papers. Training your own customised domain specific corpus using word2Vec and gensim might lead more optimal solutions. \n",
    "\n",
    "Furthermore, using the traditional count based feature engineering methods (tfidf), we lose additional information like the semantics, structure, sequence and context around nearby words in each text document. Therefore, I will now  explore more sophisticated models which can capture this information and give us features which are vector representation of words, popularly known as embeddings."
   ]
  },
  {
   "cell_type": "markdown",
   "metadata": {},
   "source": [
    "# Exploring word embeddings "
   ]
  },
  {
   "cell_type": "markdown",
   "metadata": {},
   "source": [
    "**Now I will train my the word2vec model on my own corpus in order to yield contextual embeddings.**\n",
    "\n",
    "**Word2vec** represents words in a constant n dimensional vector space. Words in close proximity to one another share common contexts and semantics. It results in a much smaller and less sparse vector represenation that one hot encoding (used by traditional count methods). \n",
    "\n",
    "I tried using word2vec on the raw uncleaned data and tokenised spacy data, however, performing a simple clean yielded the best results.  "
   ]
  },
  {
   "cell_type": "code",
   "execution_count": 33,
   "metadata": {
    "ExecuteTime": {
     "end_time": "2020-05-13T12:24:52.130948Z",
     "start_time": "2020-05-13T12:24:52.122674Z"
    }
   },
   "outputs": [],
   "source": [
    "df2 = df.copy()"
   ]
  },
  {
   "cell_type": "code",
   "execution_count": 34,
   "metadata": {
    "ExecuteTime": {
     "end_time": "2020-05-13T12:24:53.584508Z",
     "start_time": "2020-05-13T12:24:53.577056Z"
    }
   },
   "outputs": [],
   "source": [
    "#remove stop words, punctuation and digits \n",
    "def simple_clean(sentence):\n",
    "    mytokens = [word for word in sentence.split(' ') if word not in stop_words and word not in punctuations]\n",
    "    mytokens = re.sub(r'\\d+' , '', str(mytokens))\n",
    "    mytokens = ''.join(ch for ch in mytokens if ch not in punctuations)\n",
    "    return mytokens"
   ]
  },
  {
   "cell_type": "code",
   "execution_count": 35,
   "metadata": {
    "ExecuteTime": {
     "end_time": "2020-05-13T12:24:57.360903Z",
     "start_time": "2020-05-13T12:24:54.180793Z"
    }
   },
   "outputs": [],
   "source": [
    "df2.text = df2.text.apply(lambda x: simple_clean(x))"
   ]
  },
  {
   "cell_type": "code",
   "execution_count": 36,
   "metadata": {
    "ExecuteTime": {
     "end_time": "2020-05-13T12:25:26.381325Z",
     "start_time": "2020-05-13T12:24:57.364904Z"
    }
   },
   "outputs": [],
   "source": [
    "#split non tokenised data into sentances to use in word2vec \n",
    "sentances = [s.split(' ') for s in df2.text]\n",
    "\n",
    "feature_size = 100    # Word vector dimensionality  \n",
    "window_context = 30          # Context window size                                                                                    \n",
    "min_word_count = 1   # Minimum word count                        \n",
    "sample = 1e-3   # Downsample setting for frequent words\n",
    "\n",
    "w2v_model_simple = Word2Vec(sentances, size=feature_size, \n",
    "                          window=window_context, min_count=min_word_count,\n",
    "                          sample=sample, iter=50)"
   ]
  },
  {
   "cell_type": "markdown",
   "metadata": {},
   "source": [
    "After building our model, we will use our words of interest to see the top similar words for each of them."
   ]
  },
  {
   "cell_type": "code",
   "execution_count": 539,
   "metadata": {
    "ExecuteTime": {
     "end_time": "2020-05-13T11:23:38.774175Z",
     "start_time": "2020-05-13T11:23:38.755301Z"
    }
   },
   "outputs": [
    {
     "data": {
      "text/plain": [
       "{'acquisition': ['takeover', 'bid', 'acquiree', 'seo', 'merger'],\n",
       " 'interested': ['sought', 'decided', 'partner', 'author', 'foregoing'],\n",
       " 'debt': ['forgive', 'underestimated', 'rescue', 'writeoff', 'bounds'],\n",
       " 'bankruptcy': ['chapter',\n",
       "  'reorganization',\n",
       "  '‘imperium’',\n",
       "  'reorganize',\n",
       "  'creditorunfriendly'],\n",
       " 'privatization': ['nationalized',\n",
       "  'residential',\n",
       "  'accumuted',\n",
       "  'lópezdesines',\n",
       "  'sara']}"
      ]
     },
     "execution_count": 539,
     "metadata": {},
     "output_type": "execute_result"
    }
   ],
   "source": [
    "# view similar tokenised words based on gensim's model \n",
    "similar_words = {search_term: [item[0] for item in w2v_model_simple.wv.most_similar([search_term], topn=5)]\n",
    "                  for search_term in ['acquisition', 'interested', 'debt', 'bankruptcy', 'privatization']}\n",
    "similar_words"
   ]
  },
  {
   "cell_type": "markdown",
   "metadata": {},
   "source": [
    "I will now visualize the words in the corpus using their embedding vectors after reducing their dimensions to a 2-D space with t-SNE. T-SNE is a non-linear technique for dimensionality reduction that is particularly well suited for the visualization of high-dimensional datasets.\n",
    "\n",
    "By reducing the dimension of your feature space, you have fewer relationships between features to consider which can be explored and visualized easily and also you are less likely to overfit your model."
   ]
  },
  {
   "cell_type": "code",
   "execution_count": 37,
   "metadata": {
    "ExecuteTime": {
     "end_time": "2020-05-13T12:25:26.405978Z",
     "start_time": "2020-05-13T12:25:26.387649Z"
    }
   },
   "outputs": [],
   "source": [
    "def tsne_plot(model):\n",
    "    \"Creates TSNE model and plots it\"\n",
    "    labels, tokens = [],[]\n",
    "\n",
    "    for word in model.wv.vocab:\n",
    "        tokens.append(model[word])\n",
    "        labels.append(word)\n",
    "    \n",
    "    tsne_model = TSNE(perplexity=30, n_components=2, init='pca', n_iter=2500, random_state=23)\n",
    "    new_values = tsne_model.fit_transform(tokens)\n",
    "\n",
    "    x, y = [], []\n",
    "    for value in new_values:\n",
    "        x.append(value[0])\n",
    "        y.append(value[1])\n",
    "        \n",
    "    plt.figure(figsize=(16, 13)) \n",
    "    for i in range(len(x)):\n",
    "        plt.scatter(x[i],y[i])\n",
    "        plt.annotate(labels[i], xy=(x[i], y[i]), xytext=(5, 2), textcoords='offset points', ha='right', va='bottom')\n",
    "    plt.show()"
   ]
  },
  {
   "cell_type": "markdown",
   "metadata": {},
   "source": [
    "Increasing the min word count will make the model more selective. Min count represents the threshold value for the words. Only words with a frequency greater than this only are going to be included into the model."
   ]
  },
  {
   "cell_type": "code",
   "execution_count": 38,
   "metadata": {
    "ExecuteTime": {
     "end_time": "2020-05-13T12:25:27.164457Z",
     "start_time": "2020-05-13T12:25:26.420853Z"
    }
   },
   "outputs": [],
   "source": [
    "selective_model = Word2Vec(sentances, size=100, window=30, min_count=350, workers=4)"
   ]
  },
  {
   "cell_type": "code",
   "execution_count": 39,
   "metadata": {
    "ExecuteTime": {
     "end_time": "2020-05-13T12:25:30.474163Z",
     "start_time": "2020-05-13T12:25:27.170318Z"
    }
   },
   "outputs": [
    {
     "name": "stderr",
     "output_type": "stream",
     "text": [
      "/Users/ellafranks/opt/anaconda3/envs/textacy/lib/python3.6/site-packages/ipykernel_launcher.py:6: DeprecationWarning: Call to deprecated `__getitem__` (Method will be removed in 4.0.0, use self.wv.__getitem__() instead).\n",
      "  \n"
     ]
    },
    {
     "data": {
      "image/png": "[encoded data removed]",
      "text/plain": [
       "<Figure size 1152x936 with 1 Axes>"
      ]
     },
     "metadata": {
      "needs_background": "light"
     },
     "output_type": "display_data"
    }
   ],
   "source": [
    "tsne_plot(selective_model)"
   ]
  },
  {
   "cell_type": "markdown",
   "metadata": {},
   "source": [
    "In order to classify each scentance into the right prof based on our Word2Vec features, I would need to get the scentance level embeddings from each of the words present in each scentance. One strategy would be to **average out the word embeddings for each word in a scentance.**"
   ]
  },
  {
   "cell_type": "code",
   "execution_count": 77,
   "metadata": {
    "ExecuteTime": {
     "end_time": "2020-05-13T13:40:08.215555Z",
     "start_time": "2020-05-13T13:39:58.790691Z"
    }
   },
   "outputs": [
    {
     "name": "stderr",
     "output_type": "stream",
     "text": [
      "/Users/ellafranks/opt/anaconda3/envs/textacy/lib/python3.6/site-packages/ipykernel_launcher.py:9: DeprecationWarning: Call to deprecated `__getitem__` (Method will be removed in 4.0.0, use self.wv.__getitem__() instead).\n",
      "  if __name__ == '__main__':\n"
     ]
    },
    {
     "data": {
      "text/html": [
       "<div>\n",
       "<style scoped>\n",
       "    .dataframe tbody tr th:only-of-type {\n",
       "        vertical-align: middle;\n",
       "    }\n",
       "\n",
       "    .dataframe tbody tr th {\n",
       "        vertical-align: top;\n",
       "    }\n",
       "\n",
       "    .dataframe thead th {\n",
       "        text-align: right;\n",
       "    }\n",
       "</style>\n",
       "<table border=\"1\" class=\"dataframe\">\n",
       "  <thead>\n",
       "    <tr style=\"text-align: right;\">\n",
       "      <th></th>\n",
       "      <th>0</th>\n",
       "      <th>1</th>\n",
       "      <th>2</th>\n",
       "      <th>3</th>\n",
       "      <th>4</th>\n",
       "      <th>5</th>\n",
       "      <th>6</th>\n",
       "      <th>7</th>\n",
       "      <th>8</th>\n",
       "      <th>9</th>\n",
       "      <th>...</th>\n",
       "      <th>240</th>\n",
       "      <th>241</th>\n",
       "      <th>242</th>\n",
       "      <th>243</th>\n",
       "      <th>244</th>\n",
       "      <th>245</th>\n",
       "      <th>246</th>\n",
       "      <th>247</th>\n",
       "      <th>248</th>\n",
       "      <th>249</th>\n",
       "    </tr>\n",
       "  </thead>\n",
       "  <tbody>\n",
       "    <tr>\n",
       "      <th>0</th>\n",
       "      <td>0.398857</td>\n",
       "      <td>0.329638</td>\n",
       "      <td>0.195863</td>\n",
       "      <td>0.555313</td>\n",
       "      <td>-0.292698</td>\n",
       "      <td>0.009037</td>\n",
       "      <td>0.010689</td>\n",
       "      <td>-0.190527</td>\n",
       "      <td>0.524190</td>\n",
       "      <td>0.747515</td>\n",
       "      <td>...</td>\n",
       "      <td>-0.560822</td>\n",
       "      <td>0.310263</td>\n",
       "      <td>0.483500</td>\n",
       "      <td>0.166893</td>\n",
       "      <td>-0.150561</td>\n",
       "      <td>-0.240169</td>\n",
       "      <td>-0.541715</td>\n",
       "      <td>-0.489756</td>\n",
       "      <td>-0.554373</td>\n",
       "      <td>-0.651663</td>\n",
       "    </tr>\n",
       "    <tr>\n",
       "      <th>1</th>\n",
       "      <td>0.386117</td>\n",
       "      <td>0.506386</td>\n",
       "      <td>0.144398</td>\n",
       "      <td>0.752050</td>\n",
       "      <td>-0.308103</td>\n",
       "      <td>0.029566</td>\n",
       "      <td>-0.057108</td>\n",
       "      <td>-0.121475</td>\n",
       "      <td>0.619571</td>\n",
       "      <td>0.596998</td>\n",
       "      <td>...</td>\n",
       "      <td>-0.500308</td>\n",
       "      <td>0.322847</td>\n",
       "      <td>0.473672</td>\n",
       "      <td>0.101301</td>\n",
       "      <td>-0.244028</td>\n",
       "      <td>-0.179869</td>\n",
       "      <td>-0.419551</td>\n",
       "      <td>-0.424621</td>\n",
       "      <td>-0.410450</td>\n",
       "      <td>-0.636411</td>\n",
       "    </tr>\n",
       "    <tr>\n",
       "      <th>2</th>\n",
       "      <td>0.390229</td>\n",
       "      <td>0.557591</td>\n",
       "      <td>0.201803</td>\n",
       "      <td>0.837488</td>\n",
       "      <td>-0.385021</td>\n",
       "      <td>0.021515</td>\n",
       "      <td>-0.075195</td>\n",
       "      <td>-0.172140</td>\n",
       "      <td>0.610294</td>\n",
       "      <td>0.657662</td>\n",
       "      <td>...</td>\n",
       "      <td>-0.546144</td>\n",
       "      <td>0.357071</td>\n",
       "      <td>0.555320</td>\n",
       "      <td>0.091054</td>\n",
       "      <td>-0.295464</td>\n",
       "      <td>-0.219462</td>\n",
       "      <td>-0.484063</td>\n",
       "      <td>-0.417967</td>\n",
       "      <td>-0.394115</td>\n",
       "      <td>-0.616921</td>\n",
       "    </tr>\n",
       "    <tr>\n",
       "      <th>3</th>\n",
       "      <td>0.505304</td>\n",
       "      <td>0.359885</td>\n",
       "      <td>0.194426</td>\n",
       "      <td>0.444199</td>\n",
       "      <td>-0.310969</td>\n",
       "      <td>0.177233</td>\n",
       "      <td>0.076932</td>\n",
       "      <td>-0.214774</td>\n",
       "      <td>0.454414</td>\n",
       "      <td>0.761689</td>\n",
       "      <td>...</td>\n",
       "      <td>-0.592936</td>\n",
       "      <td>0.359374</td>\n",
       "      <td>0.625299</td>\n",
       "      <td>0.137736</td>\n",
       "      <td>-0.248559</td>\n",
       "      <td>-0.257792</td>\n",
       "      <td>-0.544549</td>\n",
       "      <td>-0.422424</td>\n",
       "      <td>-0.538852</td>\n",
       "      <td>-0.615836</td>\n",
       "    </tr>\n",
       "    <tr>\n",
       "      <th>4</th>\n",
       "      <td>0.385686</td>\n",
       "      <td>0.601859</td>\n",
       "      <td>0.176636</td>\n",
       "      <td>0.862792</td>\n",
       "      <td>-0.388378</td>\n",
       "      <td>0.047553</td>\n",
       "      <td>-0.088377</td>\n",
       "      <td>-0.151091</td>\n",
       "      <td>0.622166</td>\n",
       "      <td>0.606382</td>\n",
       "      <td>...</td>\n",
       "      <td>-0.529071</td>\n",
       "      <td>0.357236</td>\n",
       "      <td>0.552075</td>\n",
       "      <td>0.069305</td>\n",
       "      <td>-0.333639</td>\n",
       "      <td>-0.198934</td>\n",
       "      <td>-0.434423</td>\n",
       "      <td>-0.379765</td>\n",
       "      <td>-0.342671</td>\n",
       "      <td>-0.594333</td>\n",
       "    </tr>\n",
       "    <tr>\n",
       "      <th>...</th>\n",
       "      <td>...</td>\n",
       "      <td>...</td>\n",
       "      <td>...</td>\n",
       "      <td>...</td>\n",
       "      <td>...</td>\n",
       "      <td>...</td>\n",
       "      <td>...</td>\n",
       "      <td>...</td>\n",
       "      <td>...</td>\n",
       "      <td>...</td>\n",
       "      <td>...</td>\n",
       "      <td>...</td>\n",
       "      <td>...</td>\n",
       "      <td>...</td>\n",
       "      <td>...</td>\n",
       "      <td>...</td>\n",
       "      <td>...</td>\n",
       "      <td>...</td>\n",
       "      <td>...</td>\n",
       "      <td>...</td>\n",
       "      <td>...</td>\n",
       "    </tr>\n",
       "    <tr>\n",
       "      <th>24472</th>\n",
       "      <td>0.369288</td>\n",
       "      <td>0.137027</td>\n",
       "      <td>0.027452</td>\n",
       "      <td>0.332364</td>\n",
       "      <td>-0.209691</td>\n",
       "      <td>0.061513</td>\n",
       "      <td>0.033685</td>\n",
       "      <td>-0.072351</td>\n",
       "      <td>0.555096</td>\n",
       "      <td>0.719516</td>\n",
       "      <td>...</td>\n",
       "      <td>-0.565773</td>\n",
       "      <td>0.250925</td>\n",
       "      <td>0.276228</td>\n",
       "      <td>0.271011</td>\n",
       "      <td>-0.018519</td>\n",
       "      <td>-0.224451</td>\n",
       "      <td>-0.418376</td>\n",
       "      <td>-0.484058</td>\n",
       "      <td>-0.608585</td>\n",
       "      <td>-0.578509</td>\n",
       "    </tr>\n",
       "    <tr>\n",
       "      <th>24473</th>\n",
       "      <td>0.369288</td>\n",
       "      <td>0.137027</td>\n",
       "      <td>0.027452</td>\n",
       "      <td>0.332364</td>\n",
       "      <td>-0.209691</td>\n",
       "      <td>0.061513</td>\n",
       "      <td>0.033685</td>\n",
       "      <td>-0.072351</td>\n",
       "      <td>0.555096</td>\n",
       "      <td>0.719516</td>\n",
       "      <td>...</td>\n",
       "      <td>-0.565773</td>\n",
       "      <td>0.250925</td>\n",
       "      <td>0.276228</td>\n",
       "      <td>0.271011</td>\n",
       "      <td>-0.018519</td>\n",
       "      <td>-0.224451</td>\n",
       "      <td>-0.418376</td>\n",
       "      <td>-0.484058</td>\n",
       "      <td>-0.608585</td>\n",
       "      <td>-0.578509</td>\n",
       "    </tr>\n",
       "    <tr>\n",
       "      <th>24474</th>\n",
       "      <td>0.369288</td>\n",
       "      <td>0.137027</td>\n",
       "      <td>0.027452</td>\n",
       "      <td>0.332364</td>\n",
       "      <td>-0.209691</td>\n",
       "      <td>0.061513</td>\n",
       "      <td>0.033685</td>\n",
       "      <td>-0.072351</td>\n",
       "      <td>0.555096</td>\n",
       "      <td>0.719516</td>\n",
       "      <td>...</td>\n",
       "      <td>-0.565773</td>\n",
       "      <td>0.250925</td>\n",
       "      <td>0.276228</td>\n",
       "      <td>0.271011</td>\n",
       "      <td>-0.018519</td>\n",
       "      <td>-0.224451</td>\n",
       "      <td>-0.418376</td>\n",
       "      <td>-0.484058</td>\n",
       "      <td>-0.608585</td>\n",
       "      <td>-0.578509</td>\n",
       "    </tr>\n",
       "    <tr>\n",
       "      <th>24475</th>\n",
       "      <td>0.369288</td>\n",
       "      <td>0.137027</td>\n",
       "      <td>0.027452</td>\n",
       "      <td>0.332364</td>\n",
       "      <td>-0.209691</td>\n",
       "      <td>0.061513</td>\n",
       "      <td>0.033685</td>\n",
       "      <td>-0.072351</td>\n",
       "      <td>0.555096</td>\n",
       "      <td>0.719516</td>\n",
       "      <td>...</td>\n",
       "      <td>-0.565773</td>\n",
       "      <td>0.250925</td>\n",
       "      <td>0.276228</td>\n",
       "      <td>0.271011</td>\n",
       "      <td>-0.018519</td>\n",
       "      <td>-0.224451</td>\n",
       "      <td>-0.418376</td>\n",
       "      <td>-0.484058</td>\n",
       "      <td>-0.608585</td>\n",
       "      <td>-0.578509</td>\n",
       "    </tr>\n",
       "    <tr>\n",
       "      <th>24476</th>\n",
       "      <td>0.369288</td>\n",
       "      <td>0.137027</td>\n",
       "      <td>0.027452</td>\n",
       "      <td>0.332364</td>\n",
       "      <td>-0.209691</td>\n",
       "      <td>0.061513</td>\n",
       "      <td>0.033685</td>\n",
       "      <td>-0.072351</td>\n",
       "      <td>0.555096</td>\n",
       "      <td>0.719516</td>\n",
       "      <td>...</td>\n",
       "      <td>-0.565773</td>\n",
       "      <td>0.250925</td>\n",
       "      <td>0.276228</td>\n",
       "      <td>0.271011</td>\n",
       "      <td>-0.018519</td>\n",
       "      <td>-0.224451</td>\n",
       "      <td>-0.418376</td>\n",
       "      <td>-0.484058</td>\n",
       "      <td>-0.608585</td>\n",
       "      <td>-0.578509</td>\n",
       "    </tr>\n",
       "  </tbody>\n",
       "</table>\n",
       "<p>24477 rows × 250 columns</p>\n",
       "</div>"
      ],
      "text/plain": [
       "            0         1         2         3         4         5         6    \\\n",
       "0      0.398857  0.329638  0.195863  0.555313 -0.292698  0.009037  0.010689   \n",
       "1      0.386117  0.506386  0.144398  0.752050 -0.308103  0.029566 -0.057108   \n",
       "2      0.390229  0.557591  0.201803  0.837488 -0.385021  0.021515 -0.075195   \n",
       "3      0.505304  0.359885  0.194426  0.444199 -0.310969  0.177233  0.076932   \n",
       "4      0.385686  0.601859  0.176636  0.862792 -0.388378  0.047553 -0.088377   \n",
       "...         ...       ...       ...       ...       ...       ...       ...   \n",
       "24472  0.369288  0.137027  0.027452  0.332364 -0.209691  0.061513  0.033685   \n",
       "24473  0.369288  0.137027  0.027452  0.332364 -0.209691  0.061513  0.033685   \n",
       "24474  0.369288  0.137027  0.027452  0.332364 -0.209691  0.061513  0.033685   \n",
       "24475  0.369288  0.137027  0.027452  0.332364 -0.209691  0.061513  0.033685   \n",
       "24476  0.369288  0.137027  0.027452  0.332364 -0.209691  0.061513  0.033685   \n",
       "\n",
       "            7         8         9    ...       240       241       242  \\\n",
       "0     -0.190527  0.524190  0.747515  ... -0.560822  0.310263  0.483500   \n",
       "1     -0.121475  0.619571  0.596998  ... -0.500308  0.322847  0.473672   \n",
       "2     -0.172140  0.610294  0.657662  ... -0.546144  0.357071  0.555320   \n",
       "3     -0.214774  0.454414  0.761689  ... -0.592936  0.359374  0.625299   \n",
       "4     -0.151091  0.622166  0.606382  ... -0.529071  0.357236  0.552075   \n",
       "...         ...       ...       ...  ...       ...       ...       ...   \n",
       "24472 -0.072351  0.555096  0.719516  ... -0.565773  0.250925  0.276228   \n",
       "24473 -0.072351  0.555096  0.719516  ... -0.565773  0.250925  0.276228   \n",
       "24474 -0.072351  0.555096  0.719516  ... -0.565773  0.250925  0.276228   \n",
       "24475 -0.072351  0.555096  0.719516  ... -0.565773  0.250925  0.276228   \n",
       "24476 -0.072351  0.555096  0.719516  ... -0.565773  0.250925  0.276228   \n",
       "\n",
       "            243       244       245       246       247       248       249  \n",
       "0      0.166893 -0.150561 -0.240169 -0.541715 -0.489756 -0.554373 -0.651663  \n",
       "1      0.101301 -0.244028 -0.179869 -0.419551 -0.424621 -0.410450 -0.636411  \n",
       "2      0.091054 -0.295464 -0.219462 -0.484063 -0.417967 -0.394115 -0.616921  \n",
       "3      0.137736 -0.248559 -0.257792 -0.544549 -0.422424 -0.538852 -0.615836  \n",
       "4      0.069305 -0.333639 -0.198934 -0.434423 -0.379765 -0.342671 -0.594333  \n",
       "...         ...       ...       ...       ...       ...       ...       ...  \n",
       "24472  0.271011 -0.018519 -0.224451 -0.418376 -0.484058 -0.608585 -0.578509  \n",
       "24473  0.271011 -0.018519 -0.224451 -0.418376 -0.484058 -0.608585 -0.578509  \n",
       "24474  0.271011 -0.018519 -0.224451 -0.418376 -0.484058 -0.608585 -0.578509  \n",
       "24475  0.271011 -0.018519 -0.224451 -0.418376 -0.484058 -0.608585 -0.578509  \n",
       "24476  0.271011 -0.018519 -0.224451 -0.418376 -0.484058 -0.608585 -0.578509  \n",
       "\n",
       "[24477 rows x 250 columns]"
      ]
     },
     "execution_count": 77,
     "metadata": {},
     "output_type": "execute_result"
    }
   ],
   "source": [
    "def average_word_vectors(words, model, vocabulary, num_features):\n",
    "    \n",
    "    feature_vector = np.zeros((num_features,),dtype=\"float64\")\n",
    "    nwords = 0.\n",
    "    \n",
    "    for word in words:\n",
    "        if word in vocabulary: \n",
    "            nwords = nwords + 1.\n",
    "            feature_vector = np.add(feature_vector, model[word])\n",
    "    \n",
    "    if nwords:\n",
    "        feature_vector = np.divide(feature_vector, nwords)\n",
    "        \n",
    "    return feature_vector\n",
    "\n",
    "    \n",
    "def averaged_word_vectorizer(corpus, model, num_features):\n",
    "    vocabulary = set(model.wv.index2word)\n",
    "    features = [average_word_vectors(tokenized_sentence, model, vocabulary, num_features)\n",
    "                    for tokenized_sentence in corpus]\n",
    "    return np.array(features)\n",
    "\n",
    "temp_model = Word2Vec(sentances, size=250, window=30, min_count=1, workers=4, sample = 1e-3)\n",
    "\n",
    "# get document level embeddings\n",
    "w2v_feature_array = averaged_word_vectorizer(corpus=sentances, model=temp_model, num_features=250)\n",
    "fa_df = pd.DataFrame(w2v_feature_array)\n",
    "fa_df"
   ]
  },
  {
   "cell_type": "markdown",
   "metadata": {},
   "source": [
    "**Now lets classify each scentance into the right prof based on our Word2Vec features.**"
   ]
  },
  {
   "cell_type": "code",
   "execution_count": 69,
   "metadata": {
    "ExecuteTime": {
     "end_time": "2020-05-13T13:32:48.597236Z",
     "start_time": "2020-05-13T13:32:48.589392Z"
    }
   },
   "outputs": [],
   "source": [
    "y = df2['prof'] "
   ]
  },
  {
   "cell_type": "code",
   "execution_count": 85,
   "metadata": {
    "ExecuteTime": {
     "end_time": "2020-05-13T13:46:31.602149Z",
     "start_time": "2020-05-13T13:46:31.495595Z"
    }
   },
   "outputs": [],
   "source": [
    "X_trainw, X_testw, y_trainw, y_testw = train_test_split(fa_df, y, test_size=0.2, random_state=1, shuffle=True, stratify=y)"
   ]
  },
  {
   "cell_type": "code",
   "execution_count": 94,
   "metadata": {
    "ExecuteTime": {
     "end_time": "2020-05-13T13:58:18.297781Z",
     "start_time": "2020-05-13T13:58:14.725347Z"
    }
   },
   "outputs": [
    {
     "name": "stderr",
     "output_type": "stream",
     "text": [
      "/Users/ellafranks/opt/anaconda3/envs/textacy/lib/python3.6/site-packages/sklearn/ensemble/forest.py:246: FutureWarning: The default value of n_estimators will change from 10 in version 0.20 to 100 in 0.22.\n",
      "  \"10 in version 0.20 to 100 in 0.22.\", FutureWarning)\n"
     ]
    },
    {
     "data": {
      "text/plain": [
       "RandomForestClassifier(bootstrap=True, class_weight=None, criterion='gini',\n",
       "            max_depth=None, max_features='auto', max_leaf_nodes=None,\n",
       "            min_impurity_decrease=0.0, min_impurity_split=None,\n",
       "            min_samples_leaf=1, min_samples_split=2,\n",
       "            min_weight_fraction_leaf=0.0, n_estimators=10, n_jobs=None,\n",
       "            oob_score=False, random_state=None, verbose=0,\n",
       "            warm_start=False)"
      ]
     },
     "execution_count": 94,
     "metadata": {},
     "output_type": "execute_result"
    }
   ],
   "source": [
    "model = RandomForestClassifier()\n",
    "model.fit(X_trainw, y_trainw)"
   ]
  },
  {
   "cell_type": "code",
   "execution_count": 95,
   "metadata": {
    "ExecuteTime": {
     "end_time": "2020-05-13T13:58:24.957776Z",
     "start_time": "2020-05-13T13:58:24.903139Z"
    }
   },
   "outputs": [
    {
     "name": "stdout",
     "output_type": "stream",
     "text": [
      "Random forest accuracy: 0.7522467320261438\n"
     ]
    }
   ],
   "source": [
    "predicted_w = model.predict(X_testw)\n",
    "print(\"Random forest accuracy:\",metrics.accuracy_score(y_testw, predicted_w))"
   ]
  },
  {
   "cell_type": "markdown",
   "metadata": {},
   "source": [
    "**We can see that the model peforms at**\n",
    "- **75 percent accuracy based on 250 features vs 90 percent accuracy based on 5000 features.**"
   ]
  },
  {
   "cell_type": "markdown",
   "metadata": {},
   "source": [
    "# Future directions"
   ]
  },
  {
   "cell_type": "markdown",
   "metadata": {},
   "source": [
    "- Training my own custom domain specific corpus model with word2vec and gensim\n",
    "- Recursive feature elimination \n",
    "- Optimise accuracy further, using grid search"
   ]
  }
 ],
 "metadata": {
  "kernelspec": {
   "display_name": "textacy",
   "language": "python",
   "name": "textacy"
  },
  "language_info": {
   "codemirror_mode": {
    "name": "ipython",
    "version": 3
   },
   "file_extension": ".py",
   "mimetype": "text/x-python",
   "name": "python",
   "nbconvert_exporter": "python",
   "pygments_lexer": "ipython3",
   "version": "3.6.8"
  }
 },
 "nbformat": 4,
 "nbformat_minor": 2
}
